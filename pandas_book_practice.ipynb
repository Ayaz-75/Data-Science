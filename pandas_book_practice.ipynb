{
  "nbformat": 4,
  "nbformat_minor": 0,
  "metadata": {
    "colab": {
      "provenance": [],
      "collapsed_sections": []
    },
    "kernelspec": {
      "name": "python3",
      "display_name": "Python 3"
    },
    "language_info": {
      "name": "python"
    }
  },
  "cells": [
    {
      "cell_type": "code",
      "execution_count": null,
      "metadata": {
        "id": "DjTJjU8x1b_J"
      },
      "outputs": [],
      "source": [
        "import numpy as np\n",
        "import pandas as pd\n",
        "import matplotlib.pyplot as plt\n",
        "%matplotlib inline\n",
        "import random\n",
        "from pandas import Series, DataFrame"
      ]
    },
    {
      "cell_type": "code",
      "source": [
        "np.random.randint(0, 10, 10) # last 10 indicates that array will contain 10 numbers"
      ],
      "metadata": {
        "colab": {
          "base_uri": "https://localhost:8080/"
        },
        "id": "PNsxN1bJ2gYM",
        "outputId": "2efc2680-b822-496d-e486-55d2a6b93faa"
      },
      "execution_count": null,
      "outputs": [
        {
          "output_type": "execute_result",
          "data": {
            "text/plain": [
              "array([0, 1, 2, 0, 5, 3, 9, 1, 7, 3])"
            ]
          },
          "metadata": {},
          "execution_count": 2
        }
      ]
    },
    {
      "cell_type": "code",
      "source": [
        "np.random.rand(10) # the value inside the braces is number of elements in array"
      ],
      "metadata": {
        "colab": {
          "base_uri": "https://localhost:8080/"
        },
        "id": "LHwaiila2w15",
        "outputId": "deb05f35-3f1b-4ef1-dd97-59a95ba37d1c"
      },
      "execution_count": null,
      "outputs": [
        {
          "output_type": "execute_result",
          "data": {
            "text/plain": [
              "array([0.05718828, 0.58549891, 0.44918573, 0.15933454, 0.20570674,\n",
              "       0.42289926, 0.6095358 , 0.08579647, 0.79983102, 0.00726343])"
            ]
          },
          "metadata": {},
          "execution_count": 3
        }
      ]
    },
    {
      "cell_type": "code",
      "source": [
        "np.random.normal(100, 10, 5) # returns a NumPy array of random floats in a normal distribution"
      ],
      "metadata": {
        "colab": {
          "base_uri": "https://localhost:8080/"
        },
        "id": "SXv1eNNx3O-L",
        "outputId": "09aa195f-e95c-478f-a224-f68027ae6507"
      },
      "execution_count": null,
      "outputs": [
        {
          "output_type": "execute_result",
          "data": {
            "text/plain": [
              "array([ 97.58124428, 102.73707551,  93.69975282,  92.04659464,\n",
              "       111.54930633])"
            ]
          },
          "metadata": {},
          "execution_count": 4
        }
      ]
    },
    {
      "cell_type": "markdown",
      "source": [
        "## ```Exercise 01```:\n",
        "Create a series of 10 elements, random integers from 70-100, representing scores on a monthly\n",
        "exam. Set the index to be the month names, starting in September and ending in June. (If these\n",
        "months don’t match the school year in your location, then feel free to make them more realistic.)\n",
        "With this series, answer the following questions:\n",
        "> What is the student’s average test score for the entire year?\n",
        "> What is the student’s average test score during the first half of the year (i.e., the first five\n",
        "months)?\n",
        "\n",
        "> What is the student’s average test score during the second half of the year?\n",
        "\n",
        "> Did the student improve their performance in the second half? If so, then by how much ?\n"
      ],
      "metadata": {
        "id": "2BHerikY4iLL"
      }
    },
    {
      "cell_type": "code",
      "source": [
        "np.random.seed(0)\n",
        "months = ['Aug', 'sep', 'oct', 'nov', 'dec', 'jan', 'feb', 'march', 'april', 'may']\n",
        "new_series = Series(np.random.randint(70, 100, 10), index=months)\n",
        "print(new_series)\n",
        "print(f\"Yearly average Score: {new_series.mean()}\")\n",
        "print(f\"Student Average Score at first half of year: {new_series['Aug':'dec'].mean()}\")\n",
        "print(f\"Student Average Score at second half of year: {new_series[5:].mean()}\")"
      ],
      "metadata": {
        "colab": {
          "base_uri": "https://localhost:8080/"
        },
        "id": "ulTJmuaJ35Pv",
        "outputId": "4b818435-5d62-4343-f0c2-e5e23f0008ae"
      },
      "execution_count": null,
      "outputs": [
        {
          "output_type": "stream",
          "name": "stdout",
          "text": [
            "Aug      82\n",
            "sep      85\n",
            "oct      91\n",
            "nov      70\n",
            "dec      73\n",
            "jan      97\n",
            "feb      73\n",
            "march    77\n",
            "april    79\n",
            "may      89\n",
            "dtype: int64\n",
            "Yearly average Score: 81.6\n",
            "Student Average Score at first half of year: 80.2\n",
            "Student Average Score at second half of year: 83.0\n"
          ]
        }
      ]
    },
    {
      "cell_type": "code",
      "source": [
        "plt.plot(new_series)\n",
        "plt.xlabel(\"Months\")\n",
        "plt.ylabel(\"Marks Taken\");"
      ],
      "metadata": {
        "colab": {
          "base_uri": "https://localhost:8080/",
          "height": 279
        },
        "id": "5hrr-aNVfeuU",
        "outputId": "da547824-9d46-4ed3-f8be-f57786228091"
      },
      "execution_count": null,
      "outputs": [
        {
          "output_type": "display_data",
          "data": {
            "text/plain": [
              "<Figure size 432x288 with 1 Axes>"
            ],
            "image/png": "[encoded data removed]"
          },
          "metadata": {
            "needs_background": "light"
          }
        }
      ]
    },
    {
      "cell_type": "code",
      "source": [
        "plt.hist(new_series);"
      ],
      "metadata": {
        "colab": {
          "base_uri": "https://localhost:8080/",
          "height": 265
        },
        "id": "08Zy-sxflvL7",
        "outputId": "76168396-b9a9-4867-ccb4-096f815897bc"
      },
      "execution_count": null,
      "outputs": [
        {
          "output_type": "display_data",
          "data": {
            "text/plain": [
              "<Figure size 432x288 with 1 Axes>"
            ],
            "image/png": "[encoded data removed]"
          },
          "metadata": {
            "needs_background": "light"
          }
        }
      ]
    },
    {
      "cell_type": "code",
      "source": [
        "mean_s = new_series.mean()\n",
        "plt.bar(new_series, mean_s, color=['red', 'blue']);"
      ],
      "metadata": {
        "colab": {
          "base_uri": "https://localhost:8080/",
          "height": 265
        },
        "id": "nXZIdcH5nQAg",
        "outputId": "ff44e6b5-b738-4498-b4a7-38d6a80725b3"
      },
      "execution_count": null,
      "outputs": [
        {
          "output_type": "display_data",
          "data": {
            "text/plain": [
              "<Figure size 432x288 with 1 Axes>"
            ],
            "image/png": "[encoded data removed]"
          },
          "metadata": {
            "needs_background": "light"
          }
        }
      ]
    },
    {
      "cell_type": "code",
      "source": [
        "highest_score = new_series.max()\n",
        "print(highest_score)"
      ],
      "metadata": {
        "colab": {
          "base_uri": "https://localhost:8080/"
        },
        "id": "fGanfBBtpVFE",
        "outputId": "002e2527-7983-4daa-e17a-a4235b420823"
      },
      "execution_count": null,
      "outputs": [
        {
          "output_type": "stream",
          "name": "stdout",
          "text": [
            "97\n"
          ]
        }
      ]
    },
    {
      "cell_type": "code",
      "source": [
        "stand_deviation = new_series.std()\n",
        "stand_deviation"
      ],
      "metadata": {
        "colab": {
          "base_uri": "https://localhost:8080/"
        },
        "id": "c6q2E-fSqVb7",
        "outputId": "e08a103e-7093-4f57-a44c-2f333b2170b4"
      },
      "execution_count": null,
      "outputs": [
        {
          "output_type": "execute_result",
          "data": {
            "text/plain": [
              "8.83427667918797"
            ]
          },
          "metadata": {},
          "execution_count": 10
        }
      ]
    },
    {
      "cell_type": "code",
      "source": [
        "new_series.count()"
      ],
      "metadata": {
        "colab": {
          "base_uri": "https://localhost:8080/"
        },
        "id": "xgRI01hRqsh3",
        "outputId": "109482f7-865c-431e-b543-2145167abe21"
      },
      "execution_count": null,
      "outputs": [
        {
          "output_type": "execute_result",
          "data": {
            "text/plain": [
              "10"
            ]
          },
          "metadata": {},
          "execution_count": 11
        }
      ]
    },
    {
      "cell_type": "code",
      "source": [
        "import math\n",
        "math.sqrt(((new_series - new_series.mean()) ** 2).sum() / new_series.count())"
      ],
      "metadata": {
        "colab": {
          "base_uri": "https://localhost:8080/"
        },
        "id": "QIrO_xIysBbO",
        "outputId": "e27e1c04-5c51-4b58-8850-3a70bf7aab9f"
      },
      "execution_count": null,
      "outputs": [
        {
          "output_type": "execute_result",
          "data": {
            "text/plain": [
              "8.380930735902785"
            ]
          },
          "metadata": {},
          "execution_count": 12
        }
      ]
    },
    {
      "cell_type": "code",
      "source": [],
      "metadata": {
        "id": "KBXQCR0lstlC"
      },
      "execution_count": null,
      "outputs": []
    },
    {
      "cell_type": "markdown",
      "source": [
        "## ```Exercise 02```\n",
        "When I was in high school and college, our instructors would sometimes give tests that were\n",
        "extremely hard. Rather than fail most of the class, they would sometimes \"scale\" the test scores.\n",
        "That is: They would assume that the average test score should be 85. They would thus calculate\n",
        "the difference between our actual mean and this ideal mean, and would then add that many\n",
        "points to each of our scores.\n",
        "For this exercise, \n",
        "I want you to \n",
        ">generate 10 test scores between 40 and 60, again using an index starting at September and ending with June. Find the mean of the scores, and add the difference between the mean and 85 to each of the scores."
      ],
      "metadata": {
        "id": "6IQww8rBrftI"
      }
    },
    {
      "cell_type": "code",
      "source": [
        "random_scores = np.random.randint(40, 60, 10)\n",
        "my_series = Series(random_scores, index=months)\n",
        "my_series + (80-my_series.mean())"
      ],
      "metadata": {
        "colab": {
          "base_uri": "https://localhost:8080/"
        },
        "id": "fnMOgHMyry1q",
        "outputId": "b4ecff4e-4885-4218-c8ee-dc7b866c789f"
      },
      "execution_count": null,
      "outputs": [
        {
          "output_type": "execute_result",
          "data": {
            "text/plain": [
              "Aug      76.2\n",
              "sep      73.2\n",
              "oct      78.2\n",
              "nov      73.2\n",
              "dec      90.2\n",
              "jan      91.2\n",
              "feb      77.2\n",
              "march    75.2\n",
              "april    89.2\n",
              "may      76.2\n",
              "dtype: float64"
            ]
          },
          "metadata": {},
          "execution_count": 22
        }
      ]
    },
    {
      "cell_type": "code",
      "source": [],
      "metadata": {
        "id": "KcJTNJCeuJXA"
      },
      "execution_count": null,
      "outputs": []
    },
    {
      "cell_type": "markdown",
      "source": [
        "## ```Exercise 03```\n",
        "In this exercise, I want you to generate 10 random integers in the range 0 - 100. (Remember that\n",
        "the function returns numbers that include the lower bound, but exclude the np.random.randint\n",
        "upper bound.) \n",
        ">Create a series containing those numbers' 10s digits. Thus, if our series contains \n",
        "10, 20, 30 1, 2, 3 , we want a series with "
      ],
      "metadata": {
        "id": "Hu45a2F3uaiU"
      }
    },
    {
      "cell_type": "code",
      "source": [
        "my_series1 = np.random.randint(0, 100, 10)\n",
        "(my_series/10).astype(np.int8)"
      ],
      "metadata": {
        "colab": {
          "base_uri": "https://localhost:8080/"
        },
        "id": "BPuFsrz4ukYi",
        "outputId": "445454df-f604-4e6f-cf2f-f4492bab25bb"
      },
      "execution_count": null,
      "outputs": [
        {
          "output_type": "execute_result",
          "data": {
            "text/plain": [
              "Aug      4\n",
              "sep      4\n",
              "oct      4\n",
              "nov      4\n",
              "dec      5\n",
              "jan      5\n",
              "feb      4\n",
              "march    4\n",
              "april    5\n",
              "may      4\n",
              "dtype: int8"
            ]
          },
          "metadata": {},
          "execution_count": 33
        }
      ]
    },
    {
      "cell_type": "code",
      "source": [],
      "metadata": {
        "id": "bt_tr_wpvuhK"
      },
      "execution_count": null,
      "outputs": []
    },
    {
      "cell_type": "markdown",
      "source": [
        "```Exercise 03: Descriptive Statistics```\n",
        "\n",
        "The mean, median, and standard deviation are three numbers we can use to get a better picture of\n",
        "our data. But there are some other numbers that we can use to fully understand it. These are\n",
        "collectively known as \"descriptive statistics.\"\n",
        "For this exercise, I want you to:\n",
        "> Generate a series of 100,000 floats in a normal distribution, with a mean at 0 and a standard deviation of 100.\n",
        "> Get the descriptive statistics for this series. How close are the mean and median?\n",
        "> Replace the minimum value with 5 times the maximum value.\n",
        "Get the descriptive statistics again. By how much did the mean, median, and standard deviations move, and why?"
      ],
      "metadata": {
        "id": "3iP7U9V5x--f"
      }
    },
    {
      "cell_type": "code",
      "source": [
        "np.random.seed(0)\n",
        "s = Series(np.random.normal(0, 100, 100_000))\n",
        "print(s.describe())\n",
        "s[s == s.min()] = 5*s.max()\n",
        "print(s.describe())"
      ],
      "metadata": {
        "colab": {
          "base_uri": "https://localhost:8080/"
        },
        "id": "uCfPyYx6ybAF",
        "outputId": "3f5b926a-7340-4254-afbd-41cae6177c9a"
      },
      "execution_count": null,
      "outputs": [
        {
          "output_type": "stream",
          "name": "stdout",
          "text": [
            "count    100000.000000\n",
            "mean          0.157670\n",
            "std          99.734467\n",
            "min        -485.211765\n",
            "25%         -66.864170\n",
            "50%           0.172022\n",
            "75%          67.343870\n",
            "max         424.177191\n",
            "dtype: float64\n",
            "count    100000.000000\n",
            "mean          0.183731\n",
            "std          99.947900\n",
            "min        -465.995297\n",
            "25%         -66.862839\n",
            "50%           0.174214\n",
            "75%          67.345174\n",
            "max        2120.885956\n",
            "dtype: float64\n"
          ]
        }
      ]
    },
    {
      "cell_type": "code",
      "source": [],
      "metadata": {
        "id": "uMmv08cwznIM"
      },
      "execution_count": null,
      "outputs": []
    }
  ]
}