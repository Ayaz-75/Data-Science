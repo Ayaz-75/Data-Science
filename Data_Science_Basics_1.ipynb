{
  "nbformat": 4,
  "nbformat_minor": 0,
  "metadata": {
    "colab": {
      "name": "Data-Science-Basics_1.ipynb",
      "provenance": [],
      "collapsed_sections": []
    },
    "kernelspec": {
      "name": "python3",
      "display_name": "Python 3"
    },
    "language_info": {
      "name": "python"
    }
  },
  "cells": [
    {
      "cell_type": "code",
      "execution_count": 35,
      "metadata": {
        "id": "TSZJ5bti7ihI"
      },
      "outputs": [],
      "source": [
        "import numpy as np\n",
        "import pandas as pd\n",
        "import matplotlib.pyplot as plt\n",
        "%matplotlib inline"
      ]
    },
    {
      "cell_type": "markdown",
      "source": [
        "##1.1 Creating a Vector\n",
        "Problem\n",
        "You need to create a vector."
      ],
      "metadata": {
        "id": "xc66aL-WEc-h"
      }
    },
    {
      "cell_type": "code",
      "source": [
        "# Problem: You need to create a vector(One-Dimentional array).\n",
        "\n",
        "# Create a vector as a row\n",
        "vector_1 = np.array([1, 2, 3, 4, 5])\n",
        "\n",
        "\n",
        "# Create a vector as a column\n",
        "vector_2 = np.array([[1],\n",
        "                     [2],\n",
        "                     [3]])\n",
        "\n",
        "print('Vector 1: ', vector_1)\n",
        "print('Vector 2: ', vector_2)"
      ],
      "metadata": {
        "colab": {
          "base_uri": "https://localhost:8080/"
        },
        "id": "5cmoxO4QB9Rj",
        "outputId": "49236ab8-ff4d-4f32-ac42-f358144d7e69"
      },
      "execution_count": 36,
      "outputs": [
        {
          "output_type": "stream",
          "name": "stdout",
          "text": [
            "Vector 1:  [1 2 3 4 5]\n",
            "Vector 2:  [[1]\n",
            " [2]\n",
            " [3]]\n"
          ]
        }
      ]
    },
    {
      "cell_type": "markdown",
      "source": [
        "##Discussion 1.1\n",
        "NumPy’s main data structure is the multidimensional array. To create a vector, we\n",
        "simply create a one-dimensional array. Just like vectors, these arrays can be repre‐\n",
        "sented horizontally (i.e., rows) or vertically (i.e., columns)."
      ],
      "metadata": {
        "id": "bG37oqElFa2t"
      }
    },
    {
      "cell_type": "markdown",
      "source": [
        "##1.2 Creating a Matrix\n",
        "Problem\n",
        "You need to create a matrix."
      ],
      "metadata": {
        "id": "vLhak9DOEYB5"
      }
    },
    {
      "cell_type": "code",
      "source": [
        "matrix_1 = np.mat([[1, 2, 3, 4, 5],[6, 7, 8 ,9 ,10]])\n",
        "matrix_1"
      ],
      "metadata": {
        "colab": {
          "base_uri": "https://localhost:8080/"
        },
        "id": "P5x9U1DsCf4Q",
        "outputId": "318d667c-c5ec-486e-9581-66ba4fbdd961"
      },
      "execution_count": 37,
      "outputs": [
        {
          "output_type": "execute_result",
          "data": {
            "text/plain": [
              "matrix([[ 1,  2,  3,  4,  5],\n",
              "        [ 6,  7,  8,  9, 10]])"
            ]
          },
          "metadata": {},
          "execution_count": 37
        }
      ]
    },
    {
      "cell_type": "markdown",
      "source": [
        "## Discussion 1.2\n",
        "To create a matrix we can use a NumPy two-dimensional array. In our solution, the\n",
        "matrix contains three rows and two columns (a column of 1s and a column of 2s)."
      ],
      "metadata": {
        "id": "6mWWNw3AFHYb"
      }
    },
    {
      "cell_type": "markdown",
      "source": [
        "##1.3 Creating a Sparse Matrix\n",
        "Problem\n",
        "Given data with very few nonzero values, you want to efficiently represent it."
      ],
      "metadata": {
        "id": "B76NpQGfF7-i"
      }
    },
    {
      "cell_type": "code",
      "source": [
        "from scipy import sparse\n",
        "# Create a matrix\n",
        "matrix = np.array([[0, 0],\n",
        "                   [0, 1],\n",
        "                   [3, 0]])\n",
        "# Create compressed sparse row (CSR) matrix\n",
        "matrix_sparse = sparse.csr_matrix(matrix)\n",
        "print(matrix_sparse)"
      ],
      "metadata": {
        "colab": {
          "base_uri": "https://localhost:8080/"
        },
        "id": "i6VxNI7hEvCT",
        "outputId": "b287a218-4c7e-4e02-bba4-69e5da17fdb9"
      },
      "execution_count": 38,
      "outputs": [
        {
          "output_type": "stream",
          "name": "stdout",
          "text": [
            "  (1, 1)\t1\n",
            "  (2, 0)\t3\n"
          ]
        }
      ]
    },
    {
      "cell_type": "markdown",
      "source": [
        "##1.4 Selecting Elements\n",
        "Problem\n",
        "You need to select one or more elements in a vector or matrix."
      ],
      "metadata": {
        "id": "7DzOLKeWHAMo"
      }
    },
    {
      "cell_type": "code",
      "source": [
        "# Create row vector\n",
        "vector = np.array([1, 2, 3, 4, 5, 6])\n",
        "\n",
        "\n",
        "# Create matrix\n",
        "matrix = np.array([[1, 2, 3],\n",
        "                   [4, 5, 6],\n",
        "                   [7, 8, 9]])\n",
        "\n",
        "\n",
        "# Select third element of vector\n",
        "print(vector[2])\n",
        "\n",
        "\n",
        "# Select second row, second 3rd Column\n",
        "matrix[1,2]"
      ],
      "metadata": {
        "colab": {
          "base_uri": "https://localhost:8080/"
        },
        "id": "uV8tv4a-GOBD",
        "outputId": "f17ba218-c34c-4ccc-e666-918b1dc33b94"
      },
      "execution_count": 39,
      "outputs": [
        {
          "output_type": "stream",
          "name": "stdout",
          "text": [
            "3\n"
          ]
        },
        {
          "output_type": "execute_result",
          "data": {
            "text/plain": [
              "6"
            ]
          },
          "metadata": {},
          "execution_count": 39
        }
      ]
    },
    {
      "cell_type": "markdown",
      "source": [
        "##Discussion\n",
        "Like most things in Python, NumPy arrays are zero-indexed, meaning that the index\n",
        "of the first element is 0, not 1. With that caveat, NumPy offers a wide variety of methods for selecting (i.e., indexing and slicing) elements or groups of elements in arrays:"
      ],
      "metadata": {
        "id": "tyc3AlxyI-x9"
      }
    },
    {
      "cell_type": "code",
      "source": [
        "vector = np.array([1, 2, 3, 4, 5, 6])\n",
        "\n",
        "matrix = np.array([[1, 2, 3],\n",
        "                   [4, 5, 6],\n",
        "                   [7, 8, 9]])\n",
        "\n",
        "\n",
        "\n",
        "# Select all elements of a vector\n",
        "# vector/vector[:]\n",
        "\n",
        "\n",
        "# Select everything up to and including the third element\n",
        "# vector[:3]\n",
        "\n",
        "\n",
        "# Select everything after the third element\n",
        "# vector[3:]\n",
        "\n",
        "\n",
        "# Select the last element\n",
        "# vector[-1]\n",
        "\n",
        "\n",
        "# Select the first two rows and all columns of a matrix\n",
        "matrix[:2, :]\n",
        "\n",
        "\n",
        "# Select all rows and the second column\n",
        "matrix[:, 1:2]"
      ],
      "metadata": {
        "colab": {
          "base_uri": "https://localhost:8080/"
        },
        "id": "upulSKkqHu-Y",
        "outputId": "46647cb3-3f15-46d3-e4c6-4abfbc94e4fe"
      },
      "execution_count": 40,
      "outputs": [
        {
          "output_type": "execute_result",
          "data": {
            "text/plain": [
              "array([[2],\n",
              "       [5],\n",
              "       [8]])"
            ]
          },
          "metadata": {},
          "execution_count": 40
        }
      ]
    },
    {
      "cell_type": "markdown",
      "source": [
        "##1.5 Describing a Matrix\n",
        "Problem:\n",
        "* You want to describe the shape, size, and dimensions of the matrix.\n",
        "\n",
        "👉 *Use shape, size, and ndim:*"
      ],
      "metadata": {
        "id": "TrnEvL8yMoU7"
      }
    },
    {
      "cell_type": "code",
      "source": [
        "matrix = np.array([[1,2,3,4,5],[5,6,7,8,9]])\n",
        "print(matrix.shape)\n",
        "print(matrix.ndim)\n",
        "print(matrix.size)"
      ],
      "metadata": {
        "colab": {
          "base_uri": "https://localhost:8080/"
        },
        "id": "MdkM_5GnJ1gY",
        "outputId": "d2879c75-f24f-4775-f85d-84b9c9ce0848"
      },
      "execution_count": 41,
      "outputs": [
        {
          "output_type": "stream",
          "name": "stdout",
          "text": [
            "(2, 5)\n",
            "2\n",
            "10\n"
          ]
        }
      ]
    },
    {
      "cell_type": "markdown",
      "source": [
        "##Discussion\n",
        "This might seem basic (and it is); however, time and again it will be valuable to check\n",
        "the shape and size of an array both for further calculations and simply as a gut check\n",
        "after some operation."
      ],
      "metadata": {
        "id": "-R1YoV9QN678"
      }
    },
    {
      "cell_type": "markdown",
      "source": [
        "##1.6 Applying Operations to Elements\n",
        "**Problem:**\n",
        "* You want to apply some function to multiple elements in an array"
      ],
      "metadata": {
        "id": "1LoLKBDPOJ8V"
      }
    },
    {
      "cell_type": "code",
      "source": [
        "from operator import add\n",
        "# Create matrix\n",
        "matrix = np.array([[1, 2, 3],\n",
        "                   [4, 5, 6],\n",
        "                   [7, 8, 9]])\n",
        "\n",
        "# Create function that adds 100 to something\n",
        "def add_100_to_something(something):\n",
        "  return something + 100\n",
        "\n",
        "# Create function that adds 100 to something\n",
        "# add_100_to_something(matrix[:, 1:2])\n",
        "add_100 = lambda i: i + 100\n",
        "\n",
        "\n",
        "# Create vectorized function\n",
        "vectorized_add_100 = np.vectorize(add_100)\n",
        "# Apply function to all elements in matrix\n",
        "vectorized_add_100(matrix)"
      ],
      "metadata": {
        "colab": {
          "base_uri": "https://localhost:8080/"
        },
        "id": "kT5xf1qONaWK",
        "outputId": "8c05de5e-b091-4366-8853-da7b4604ceb4"
      },
      "execution_count": 42,
      "outputs": [
        {
          "output_type": "execute_result",
          "data": {
            "text/plain": [
              "array([[101, 102, 103],\n",
              "       [104, 105, 106],\n",
              "       [107, 108, 109]])"
            ]
          },
          "metadata": {},
          "execution_count": 42
        }
      ]
    },
    {
      "cell_type": "markdown",
      "source": [
        "##Discussion\n",
        "* NumPy’s vectorize class converts a function into a function that can apply to all elements in an array or slice of an array. \n",
        "* It’s worth noting that vectorize is essentially a for loop over the elements and does not increase performance. \n",
        "* Furthermore, NumPy arrays allow us to perform operations between arrays even if their dimensions are not the same (a process called broadcasting.\n",
        "* For example, we can create a much simpler\n",
        "version of our solution using broadcasting:"
      ],
      "metadata": {
        "id": "P5q3pvX9R94n"
      }
    },
    {
      "cell_type": "code",
      "source": [
        "matrix = np.array([[1, 2, 3],\n",
        "                   [4, 5, 6],\n",
        "                   [7, 8, 9]])\n",
        "\n",
        "matrix += 100\n",
        "matrix"
      ],
      "metadata": {
        "colab": {
          "base_uri": "https://localhost:8080/"
        },
        "id": "Bi92My8pOaD4",
        "outputId": "d432098a-8d36-4117-8129-ddba9b4d59fa"
      },
      "execution_count": 43,
      "outputs": [
        {
          "output_type": "execute_result",
          "data": {
            "text/plain": [
              "array([[101, 102, 103],\n",
              "       [104, 105, 106],\n",
              "       [107, 108, 109]])"
            ]
          },
          "metadata": {},
          "execution_count": 43
        }
      ]
    },
    {
      "cell_type": "markdown",
      "source": [
        "##1.7 Finding the Maximum and Minimum Values in a np array\n",
        "**Problem:** \n",
        "* You need to find the maximum or minimum value in an array."
      ],
      "metadata": {
        "id": "EcOSyWTGTToA"
      }
    },
    {
      "cell_type": "code",
      "source": [
        "array_1 = np.array([1,2,3,4,5])\n",
        "list_1 = [1,2,3,4,5]\n",
        "\n",
        "\n",
        "# Finding the maximum and minimum values in a numpy array\n",
        "maximum_of_array = np.max(array_1)\n",
        "minimum_of_array = np.min(array_1)\n",
        "\n",
        "print(\"Maximum num in array: \", maximum_of_array)\n",
        "print(\"Minimum num in array: \", minimum_of_array)\n",
        "\n",
        "# Finding the maximum and minimum values in a list without using function\n",
        "min_num = list_1[0]\n",
        "max_num = min_num\n",
        "\n",
        "for num in list_1:\n",
        "  if num<min_num:\n",
        "    min_num = num\n",
        "  \n",
        "  elif num > max_num:\n",
        "    max_num = num\n",
        "\n",
        "print(\"Minimum number in list: \", min_num)\n",
        "print(\"Maximum number in list: \",max_num)\n"
      ],
      "metadata": {
        "colab": {
          "base_uri": "https://localhost:8080/"
        },
        "id": "GfGwWvK7Q7R8",
        "outputId": "1ce5ae4f-baa8-402b-c786-1d9c815fc1cc"
      },
      "execution_count": 44,
      "outputs": [
        {
          "output_type": "stream",
          "name": "stdout",
          "text": [
            "Maximum num in array:  5\n",
            "Minimum num in array:  1\n",
            "Minimum number in list:  1\n",
            "Maximum number in list:  5\n"
          ]
        }
      ]
    },
    {
      "cell_type": "markdown",
      "source": [
        "##1.7-B Finding the Maximum and Minimum Values in a matrix\n",
        "**Problem:** \n",
        "* You need to find the maximum or minimum value in an matrix."
      ],
      "metadata": {
        "id": "1bV_mnZ3X28l"
      }
    },
    {
      "cell_type": "code",
      "source": [
        "matrix = np.array([[1, 2, 3],\n",
        "                   [4, 5, 6],\n",
        "                   [7, 8, 9]])\n",
        "\n",
        "# maximum value in each column\n",
        "maximum_in_columns = np.max(matrix, axis=1)\n",
        "print(\"Maximum numbers in each column: \", maximum_in_columns)\n",
        "\n",
        "\n",
        "# maximum value in each row\n",
        "maximum_in_rows = np.max(matrix, axis=0)\n",
        "print(\"Maximum numbers in each row: \", maximum_in_rows)"
      ],
      "metadata": {
        "colab": {
          "base_uri": "https://localhost:8080/"
        },
        "id": "Cp02HLKKUudA",
        "outputId": "0aee79f6-fdb7-4b30-deea-b2fd5ba1c6ef"
      },
      "execution_count": 45,
      "outputs": [
        {
          "output_type": "stream",
          "name": "stdout",
          "text": [
            "Maximum numbers in each column:  [3 6 9]\n",
            "Maximum numbers in each row:  [7 8 9]\n"
          ]
        }
      ]
    },
    {
      "cell_type": "markdown",
      "source": [
        "##Discussion\n",
        "Often we want to know the maximum and minimum value in an array or subset of an array. This can be accomplished with the max and min methods. Using the axis parameter we can also apply the operation along a certain axis:\n",
        "* Find maximum element in each column\n",
        "\n",
        "```np.max(matrix, axis=0)```\n",
        "\n",
        "output : array([7, 8, 9])\n",
        "\n",
        "*  Find maximum element in each row\n",
        "\n",
        "```np.max(matrix, axis=1)```\n",
        "\n",
        "output : array([3, 6, 9])"
      ],
      "metadata": {
        "id": "VyXpRcgDYdbF"
      }
    },
    {
      "cell_type": "markdown",
      "source": [
        "##1.8 Calculating the Average, Variance, and Standard Deviation\n",
        "**Problem :**\n",
        "* You want to calculate some descriptive statistics about an array."
      ],
      "metadata": {
        "id": "0fivLYrVbTm3"
      }
    },
    {
      "cell_type": "code",
      "source": [
        "# Create matrix\n",
        "matrix = np.array([[1, 2, 3],\n",
        "                   [4, 5, 6],\n",
        "                   [7, 8, 9]])\n",
        "\n",
        "\n",
        "# this will return the average of the matrix\n",
        "average = np.mean(matrix)\n",
        "\n",
        "\n",
        "# this will return the varience of the matrix\n",
        "variance = np.var(matrix)\n",
        "\n",
        "\n",
        "# this will return the Standard deviation of matrix\n",
        "s_daviation = np.std(matrix)\n",
        "\n",
        "\n",
        "# Print them all\n",
        "print(f\"Average: {average.round(3)}\")\n",
        "print(f\"Variance: {variance.round(2)}\")\n",
        "print(f\"Standard deviation: {variance.round(2)}\")"
      ],
      "metadata": {
        "id": "xE4nVHMJYPXS",
        "colab": {
          "base_uri": "https://localhost:8080/"
        },
        "outputId": "ffee78b9-b9c7-4d2c-f44b-af5300faf655"
      },
      "execution_count": 46,
      "outputs": [
        {
          "output_type": "stream",
          "name": "stdout",
          "text": [
            "Average: 5.0\n",
            "Variance: 6.67\n",
            "Standard deviation: 6.67\n"
          ]
        }
      ]
    },
    {
      "cell_type": "markdown",
      "source": [
        "##Discussion\n",
        "Just like with max and min, we can easily get descriptive statistics about the whole\n",
        "matrix or do calculations along a single axis:\n",
        "# Find the mean value in each column\n",
        "```np.mean(matrix, axis=0)```\n",
        "\n",
        "\n",
        "array  ( [ 4., 5., 6.] )\n"
      ],
      "metadata": {
        "id": "t9aMJHNkOE84"
      }
    },
    {
      "cell_type": "markdown",
      "source": [
        "##1.9 Reshaping Arrays\n",
        "**Problem:**\n",
        "\n",
        "You want to change the shape (number of rows and columns) of an array without changing the element values."
      ],
      "metadata": {
        "id": "EMxlbv6ZOVSp"
      }
    },
    {
      "cell_type": "code",
      "source": [
        "# Unsing reshape attribute\n",
        "matrix = np.array([[1,2,3],\n",
        "                   [4,5,6]])\n",
        "\n",
        "\n",
        "\n",
        "new_matrix = matrix.reshape(3, 2)\n",
        "\n",
        "print(f\"orignal matrix: \\n{matrix}\")\n",
        "print(f\"size of orignal matrix: \\n{matrix.size}\")\n",
        "print()\n",
        "print(f\"new matrix: \\n{new_matrix}\")\n",
        "print(f\"size of new matrix: \\n{new_matrix.size}\")\n"
      ],
      "metadata": {
        "colab": {
          "base_uri": "https://localhost:8080/"
        },
        "id": "gWrRG0RIMu3M",
        "outputId": "efb4b772-37d1-4947-8a13-14adc1f97873"
      },
      "execution_count": 47,
      "outputs": [
        {
          "output_type": "stream",
          "name": "stdout",
          "text": [
            "orignal matrix: \n",
            "[[1 2 3]\n",
            " [4 5 6]]\n",
            "size of orignal matrix: \n",
            "6\n",
            "\n",
            "new matrix: \n",
            "[[1 2]\n",
            " [3 4]\n",
            " [5 6]]\n",
            "size of new matrix: \n",
            "6\n"
          ]
        }
      ]
    },
    {
      "cell_type": "markdown",
      "source": [
        "##Discussion\n",
        "reshape allows us to restructure an array so that we maintain the same data but it is\n",
        "organized as a different number of rows and columns. The only requirement is that\n",
        "the shape of the original and new matrix contain the same number of elements (i.e., the same size). \n",
        "\n",
        "We can see the size of a matrix using size:\n",
        "\n",
        "```matrix.size```\n",
        "\n",
        "__output: 12__\n",
        "\n",
        "*One useful argument in reshape is -1, which effectively means “as many as needed,”*\n",
        "\n",
        "so __reshape ( -1,  1 )__ means one row and as many columns as needed:\n",
        "\n",
        "```matrix.reshape(1, -1)```\n",
        "\n",
        "output: array( [ [ 1, 2, 3, 4, 5, 6, 7, 8, 9, 10, 11, 12 ] ] )\n",
        "\n",
        "Finally, if we provide one integer, reshape will return a 1D array of that length:\n",
        "\n",
        "```matrix.reshape(12)```\n",
        "\n",
        "output: array([ 1, 2, 3, 4, 5, 6, 7, 8, 9, 10, 11, 12])"
      ],
      "metadata": {
        "id": "dHJsxXpqTwVG"
      }
    },
    {
      "cell_type": "code",
      "source": [
        "matrix = np.array([[1,2,3],\n",
        "                   [4,5,6]])\n",
        "\n",
        "\n",
        "# provide one integer, reshape will return a 1D array of that length:\n",
        "print(\"Returning 1D array: \\n\", matrix.reshape(6))\n",
        "print()\n",
        "\n",
        "\n",
        "# means one column and as many rows as needed\n",
        "print(\"one row and as many rows as needed: \\n\", matrix.reshape(-1, 1))\n",
        "print()\n",
        "\n",
        "\n",
        "# means one row and as many columns as needed\n",
        "print(\"one row and as many columns as needed: \\n\", matrix.reshape(1, -1))\n"
      ],
      "metadata": {
        "colab": {
          "base_uri": "https://localhost:8080/"
        },
        "id": "ULEZF2xePLCp",
        "outputId": "19bbe26f-5a10-4a12-c8a7-0243e85b4b3e"
      },
      "execution_count": 48,
      "outputs": [
        {
          "output_type": "stream",
          "name": "stdout",
          "text": [
            "Returning 1D array: \n",
            " [1 2 3 4 5 6]\n",
            "\n",
            "one row and as many rows as needed: \n",
            " [[1]\n",
            " [2]\n",
            " [3]\n",
            " [4]\n",
            " [5]\n",
            " [6]]\n",
            "\n",
            "one row and as many columns as needed: \n",
            " [[1 2 3 4 5 6]]\n"
          ]
        }
      ]
    },
    {
      "cell_type": "markdown",
      "source": [
        "## 1.10 Transposing a Vector or Matrix\n",
        "**Problem :**\n",
        "\n",
        "* You need to transpose a vector or matrix."
      ],
      "metadata": {
        "id": "iGXrxGkKHSoc"
      }
    },
    {
      "cell_type": "code",
      "source": [
        "matrix = np.array([[1, 2, 3],\n",
        "                   [4, 5, 6],\n",
        "                   [7, 8, 9]])\n",
        "\n",
        "transposed_matrix = matrix.T\n",
        "transposed_matrix"
      ],
      "metadata": {
        "colab": {
          "base_uri": "https://localhost:8080/"
        },
        "id": "gDY5d4KaVH5u",
        "outputId": "3e0a5bcd-cce6-4134-c148-baf5438025fe"
      },
      "execution_count": 49,
      "outputs": [
        {
          "output_type": "execute_result",
          "data": {
            "text/plain": [
              "array([[1, 4, 7],\n",
              "       [2, 5, 8],\n",
              "       [3, 6, 9]])"
            ]
          },
          "metadata": {},
          "execution_count": 49
        }
      ]
    },
    {
      "cell_type": "markdown",
      "source": [
        "## Discussion\n",
        "Transposing is a common operation in linear algebra where the column and row indices of each element are swapped. One nuanced point that is typically overlooked outside of a linear algebra class is that, technically, a vector cannot be transposed\n",
        "because it is just a collection of values:\n",
        "\n",
        "__Transpose vector :__\n",
        "\n",
        "```np.array([1, 2, 3, 4, 5, 6]).T```\n",
        "\n",
        "```array([1, 2, 3, 4, 5, 6])```\n",
        "\n",
        "However, it is common to refer to transposing a vector as converting a row vector to\n",
        "a column vector (notice the second pair of brackets) or vice versa:\n",
        "# Tranpose row vector\n",
        "``` np.array([[1, 2, 3, 4, 5, 6]]).T```\n",
        "\n",
        "__output :__\n",
        "\n",
        "array([[1],\n",
        "\n",
        "       [2],\n",
        "       [3],\n",
        "       [4],\n",
        "       [5],\n",
        "       [6]])"
      ],
      "metadata": {
        "id": "moJI7SgsIkqB"
      }
    },
    {
      "cell_type": "markdown",
      "source": [
        "## 1.11 Flattening a Matrix\n",
        "__Problem :__\n",
        "\n",
        "* You need to transform a matrix into a one-dimensional array."
      ],
      "metadata": {
        "id": "3MV3c4zDKBaT"
      }
    },
    {
      "cell_type": "code",
      "source": [
        "# using flatten() method\n",
        "matrix = np.array([[1,2,3],\n",
        "                   [4,5,6],\n",
        "                   [7,8,9]])\n",
        "\n",
        "flattened_matrix = matrix.flatten()\n",
        "flattened_matrix"
      ],
      "metadata": {
        "colab": {
          "base_uri": "https://localhost:8080/"
        },
        "id": "4X8DphlZHr-C",
        "outputId": "cc24efe1-0f25-4137-927f-d0025283b944"
      },
      "execution_count": 50,
      "outputs": [
        {
          "output_type": "execute_result",
          "data": {
            "text/plain": [
              "array([1, 2, 3, 4, 5, 6, 7, 8, 9])"
            ]
          },
          "metadata": {},
          "execution_count": 50
        }
      ]
    },
    {
      "cell_type": "markdown",
      "source": [
        "## Discussion\n",
        "flatten is a simple method to transform a matrix into a one-dimensional array.\n",
        "Alternatively, we can use reshape to create a row vector:\n",
        "matrix.reshape(1, -1)\n",
        "```array([[1, 2, 3, 4, 5, 6, 7, 8, 9]])```"
      ],
      "metadata": {
        "id": "0ysBfVa9Lblx"
      }
    },
    {
      "cell_type": "markdown",
      "source": [
        "## 1.12 Finding the Rank of a Matrix\n",
        "__Problem :__\n",
        "* You need to know the rank of a matrix."
      ],
      "metadata": {
        "id": "k8ruWbsTLhvo"
      }
    },
    {
      "cell_type": "code",
      "source": [
        "# using matrix_rank method\n",
        "matrix = np.array([[1,2,3],\n",
        "                   [4,5,6],\n",
        "                   [7,8,9]])\n",
        "\n",
        "\n",
        "# Return matrix rank\n",
        "np.linalg.matrix_rank(matrix)"
      ],
      "metadata": {
        "colab": {
          "base_uri": "https://localhost:8080/"
        },
        "id": "7MytCsFTK8tg",
        "outputId": "cb020338-8410-427a-918c-d9705c6315e2"
      },
      "execution_count": 51,
      "outputs": [
        {
          "output_type": "execute_result",
          "data": {
            "text/plain": [
              "2"
            ]
          },
          "metadata": {},
          "execution_count": 51
        }
      ]
    },
    {
      "cell_type": "markdown",
      "source": [
        "## 1.13 Calculating the Determinant\n",
        "__Problem :__\n",
        "* You need to know the determinant of a matrix."
      ],
      "metadata": {
        "id": "ADkrjp5gOpWk"
      }
    },
    {
      "cell_type": "code",
      "source": [
        "# Create matrix\n",
        "matrix = np.array([[1, 2, 3],\n",
        "                   [2, 4, 6],\n",
        "                   [3, 8, 9]])\n",
        "\n",
        "# Return determinant of matrix\n",
        "np.linalg.det(matrix)"
      ],
      "metadata": {
        "colab": {
          "base_uri": "https://localhost:8080/"
        },
        "id": "SRLffh_lNMET",
        "outputId": "a53a3c09-a5b9-4e7b-e003-dc2dd75ee678"
      },
      "execution_count": 52,
      "outputs": [
        {
          "output_type": "execute_result",
          "data": {
            "text/plain": [
              "0.0"
            ]
          },
          "metadata": {},
          "execution_count": 52
        }
      ]
    },
    {
      "cell_type": "markdown",
      "source": [
        "## 1.14 Getting the Diagonal of a Matrix\n",
        "__Problem :__\n",
        "* You need to get the diagonal elements of a matrix.\n"
      ],
      "metadata": {
        "id": "98kOYaqcS9X_"
      }
    },
    {
      "cell_type": "code",
      "source": [
        "# Create matrix\n",
        "matrix = np.array([[1, 2, 3],\n",
        "                   [2, 4, 6],\n",
        "                   [3, 8, 9]])\n",
        "\n",
        "# returns the diagonal elements of the matrix\n",
        "matrix.diagonal()"
      ],
      "metadata": {
        "colab": {
          "base_uri": "https://localhost:8080/"
        },
        "id": "m8LUkxvuPGpU",
        "outputId": "069f1c48-3929-45c5-b7a6-cf6aa9d1f807"
      },
      "execution_count": 53,
      "outputs": [
        {
          "output_type": "execute_result",
          "data": {
            "text/plain": [
              "array([1, 4, 9])"
            ]
          },
          "metadata": {},
          "execution_count": 53
        }
      ]
    },
    {
      "cell_type": "markdown",
      "source": [
        "## Discussion\n",
        "NumPy makes getting the diagonal elements of a matrix easy with diagonal. It is also possible to get a diagonal off from the main diagonal by using the offset parameter:\n",
        "\n",
        "* #Returns diagonal one above the main diagonal\n",
        "\n",
        "```matrix.diagonal(offset=1)```\n",
        "\n",
        "output: array ( [ 2 , 6 ] )\n",
        "\n",
        "* #Return diagonal one below the main diagonal\n",
        "\n",
        "```matrix.diagonal(offset=-1)```\n",
        "\n",
        "output: array ( [ 2 , 8 ] )"
      ],
      "metadata": {
        "id": "1vxL0lFWTmYe"
      }
    },
    {
      "cell_type": "markdown",
      "source": [
        "# 1.15 Calculating Dot Products\n",
        "__Problem :__\n",
        "* You need to calculate the dot product of two vectors."
      ],
      "metadata": {
        "id": "H7it8FpFUvR9"
      }
    },
    {
      "cell_type": "code",
      "source": [
        "# Create two vectors\n",
        "vector_a = np.array([1,2,3])\n",
        "vector_b = np.array([4,5,6])\n",
        "\n",
        "# calculting the dot product of two vectors\n",
        "np.dot(vector_a, vector_b)"
      ],
      "metadata": {
        "colab": {
          "base_uri": "https://localhost:8080/"
        },
        "id": "-OQ8OlZ-TJvj",
        "outputId": "01a45f97-118b-4d72-91d5-dd658fc6a41e"
      },
      "execution_count": 54,
      "outputs": [
        {
          "output_type": "execute_result",
          "data": {
            "text/plain": [
              "32"
            ]
          },
          "metadata": {},
          "execution_count": 54
        }
      ]
    },
    {
      "cell_type": "markdown",
      "source": [
        "## Discussion\n",
        "The dot product of two vectors, a and b, is defined as:\n",
        "\n",
        "$\\mathbf{a} \\cdot \\mathbf{b} = \\sum_{i=1}^n a_i b_i$.\n",
        "\n",
        "where ai is the ith element of vector a. We can use NumPy’s dot class to calculate the\n",
        "dot product. Alternatively, in Python 3.5+ we can use the new @ operator:\n",
        "# Calculate dot product\n",
        "vector_a @ vector_b\n",
        "\n",
        "32"
      ],
      "metadata": {
        "id": "_92y_7BCVY_t"
      }
    },
    {
      "cell_type": "markdown",
      "source": [
        "## 1.16 Adding and Subtracting Matrices\n",
        "__Problem :__\n",
        "* You want to add or subtract two matrices."
      ],
      "metadata": {
        "id": "G-bIctC8XUIT"
      }
    },
    {
      "cell_type": "code",
      "source": [
        "\n",
        "# Create matrix\n",
        "matrix_a = np.array([[1, 1, 1],\n",
        "                     [1, 1, 1],\n",
        "                     [1, 1, 2]])\n",
        "# Create matrix\n",
        "matrix_b = np.array([[1, 3, 1],\n",
        "                     [1, 3, 1],\n",
        "                     [1, 3, 8]])\n",
        "\n",
        "# adding two matrices\n",
        "print(\"Adding two matrix: \\n\", np.add(matrix_a, matrix_b))\n",
        "\n",
        "print()\n",
        "\n",
        "# subtracting b matrix from a\n",
        "print(\"Subtracting matrix a from b: \\n\",np.subtract(matrix_a, matrix_b))"
      ],
      "metadata": {
        "colab": {
          "base_uri": "https://localhost:8080/"
        },
        "id": "Pt0P_LPFVFKm",
        "outputId": "fe00d2e8-7cb9-4327-aea5-90cf3d869635"
      },
      "execution_count": 55,
      "outputs": [
        {
          "output_type": "stream",
          "name": "stdout",
          "text": [
            "Adding two matrix: \n",
            " [[ 2  4  2]\n",
            " [ 2  4  2]\n",
            " [ 2  4 10]]\n",
            "\n",
            "Subtracting matrix a from b: \n",
            " [[ 0 -2  0]\n",
            " [ 0 -2  0]\n",
            " [ 0 -2 -6]]\n"
          ]
        }
      ]
    },
    {
      "cell_type": "markdown",
      "source": [
        "## Discussion\n",
        "Alternatively, we can simply use the + and - operators:\n",
        "* Add two matrices\n",
        "\n",
        "  ```matrix_a + matrix_b```"
      ],
      "metadata": {
        "id": "E8QHhwugYpEJ"
      }
    },
    {
      "cell_type": "markdown",
      "source": [
        "## 1.17 Multiplying Matrices\n",
        "__Problem :__\n",
        "* You want to multiply two matrices"
      ],
      "metadata": {
        "id": "Hms3DgTeY46N"
      }
    },
    {
      "cell_type": "code",
      "source": [
        "# Create matrix\n",
        "matrix_a = np.array([[1, 1],\n",
        "                     [1, 2]])\n",
        "\n",
        "# Create matrix\n",
        "matrix_b = np.array([[1, 3],\n",
        "                     [1, 2]])\n",
        "\n",
        "# Multiply two matrices\n",
        "np.dot(matrix_a, matrix_b)"
      ],
      "metadata": {
        "colab": {
          "base_uri": "https://localhost:8080/"
        },
        "id": "FezRqaPHXyEt",
        "outputId": "d501fc0d-078f-4a1c-9145-61add705204b"
      },
      "execution_count": 56,
      "outputs": [
        {
          "output_type": "execute_result",
          "data": {
            "text/plain": [
              "array([[2, 5],\n",
              "       [3, 7]])"
            ]
          },
          "metadata": {},
          "execution_count": 56
        }
      ]
    },
    {
      "cell_type": "markdown",
      "source": [
        "## Discussion\n",
        "Alternatively, in Python 3.5+ we can use the @ operator:\n",
        "\n",
        "* Multiply two matrices\n",
        "\n",
        "```matrix_a @ matrix_b```\n",
        "\n",
        "If we want to do element-wise multiplication, we can use the * operator:\n",
        "* Multiply two matrices element-wise\n",
        "\n",
        "```matrix_a * matrix_b```"
      ],
      "metadata": {
        "id": "eq0E91whZkXf"
      }
    },
    {
      "cell_type": "markdown",
      "source": [
        "## 1.18 Inverting a Matrix\n",
        "__Problem :__\n",
        "\n",
        "* You want to calculate the inverse of a square matrix."
      ],
      "metadata": {
        "id": "Nwo4RGVhbAsm"
      }
    },
    {
      "cell_type": "code",
      "source": [
        "# Load library\n",
        "import numpy as np\n",
        "# Create matrix\n",
        "matrix = np.array([[1, 4],\n",
        "                   [2, 5]])\n",
        "# Calculate inverse of matrix\n",
        "np.linalg.inv(matrix)"
      ],
      "metadata": {
        "colab": {
          "base_uri": "https://localhost:8080/"
        },
        "id": "RpodyhRsZUCH",
        "outputId": "6362afda-7845-4810-f90b-75cf6e7ff43d"
      },
      "execution_count": 57,
      "outputs": [
        {
          "output_type": "execute_result",
          "data": {
            "text/plain": [
              "array([[-1.66666667,  1.33333333],\n",
              "       [ 0.66666667, -0.33333333]])"
            ]
          },
          "metadata": {},
          "execution_count": 57
        }
      ]
    },
    {
      "cell_type": "markdown",
      "source": [
        "Discussion\n",
        "The inverse of a square matrix, A, is a second matrix A–1, such that:\n",
        "$$ {AA}^{-1} = I$$\n",
        "where I is the identity matrix. In NumPy we can use linalg.inv to calculate A–1 if it\n",
        "exists. \n",
        "\n",
        "To see this in action, we can multiply a matrix by its inverse and the result is\n",
        "the identity matrix:\n",
        "# Multiply matrix and its inverse\n",
        "```matrix @ np.linalg.inv(matrix)```"
      ],
      "metadata": {
        "id": "bv8eLy_8bU7G"
      }
    },
    {
      "cell_type": "markdown",
      "source": [
        "## 1.19 Generating Random Values\n",
        "__Problem :__\n",
        "\n",
        "* You want to generate pseudorandom values."
      ],
      "metadata": {
        "id": "xSUIjbBPcYUZ"
      }
    },
    {
      "cell_type": "code",
      "source": [
        "# Set seed\n",
        "np.random.seed(0)\n",
        "\n",
        "\n",
        "# Generate three random floats between 0.0 and 1.0\n",
        "np.random.random(3)"
      ],
      "metadata": {
        "colab": {
          "base_uri": "https://localhost:8080/"
        },
        "id": "64HkY96lbP2R",
        "outputId": "1afe06f6-3033-4553-fc1a-d666ce501cdc"
      },
      "execution_count": 58,
      "outputs": [
        {
          "output_type": "execute_result",
          "data": {
            "text/plain": [
              "array([0.5488135 , 0.71518937, 0.60276338])"
            ]
          },
          "metadata": {},
          "execution_count": 58
        }
      ]
    },
    {
      "cell_type": "markdown",
      "source": [
        "## Discussion\n",
        "NumPy offers a wide variety of means to generate random numbers, many more than can be covered here. In our solution we generated floats; however, it is also common to generate integers"
      ],
      "metadata": {
        "id": "FMy8r--9c46N"
      }
    },
    {
      "cell_type": "code",
      "source": [
        ""
      ],
      "metadata": {
        "id": "4r_EzlYsc3wF"
      },
      "execution_count": 58,
      "outputs": []
    }
  ]
}