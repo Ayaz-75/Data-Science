{
  "nbformat": 4,
  "nbformat_minor": 0,
  "metadata": {
    "colab": {
      "provenance": [],
      "collapsed_sections": []
    },
    "kernelspec": {
      "name": "python3",
      "display_name": "Python 3"
    },
    "language_info": {
      "name": "python"
    }
  },
  "cells": [
    {
      "cell_type": "code",
      "execution_count": null,
      "metadata": {
        "id": "3SJbysM5ciFL"
      },
      "outputs": [],
      "source": [
        "#### Importing NumPy\n",
        "import numpy as np"
      ]
    },
    {
      "cell_type": "code",
      "source": [
        "#### First example on 1D-array\n",
        "a = np.array([1, 2, 3, 4, 5])\n",
        "a.dtype\n",
        "print(a)"
      ],
      "metadata": {
        "colab": {
          "base_uri": "https://localhost:8080/"
        },
        "id": "XXgY01Ewc2hM",
        "outputId": "2a732ceb-ccc1-4f35-9686-9ad920da72a3"
      },
      "execution_count": null,
      "outputs": [
        {
          "output_type": "stream",
          "name": "stdout",
          "text": [
            "[1 2 3 4 5]\n"
          ]
        }
      ]
    },
    {
      "cell_type": "code",
      "source": [
        "#### Another way to initialize a NumPy array\n",
        "b = np.arange(1, 6)\n",
        "b"
      ],
      "metadata": {
        "colab": {
          "base_uri": "https://localhost:8080/"
        },
        "id": "jN19ONn7c_i2",
        "outputId": "d3a29c44-0d61-4631-e707-a60fcd8ae9b5"
      },
      "execution_count": null,
      "outputs": [
        {
          "output_type": "execute_result",
          "data": {
            "text/plain": [
              "array([1, 2, 3, 4, 5])"
            ]
          },
          "metadata": {},
          "execution_count": 4
        }
      ]
    },
    {
      "cell_type": "code",
      "source": [
        "#### Zero dimnsional array\n",
        "zero_d = np.array(100)\n",
        "zero_d"
      ],
      "metadata": {
        "colab": {
          "base_uri": "https://localhost:8080/"
        },
        "id": "dzA1KSAweCEL",
        "outputId": "8834fa6b-5481-4404-8942-9d7cb0c5625a"
      },
      "execution_count": null,
      "outputs": [
        {
          "output_type": "execute_result",
          "data": {
            "text/plain": [
              "array(100)"
            ]
          },
          "metadata": {},
          "execution_count": 5
        }
      ]
    },
    {
      "cell_type": "code",
      "source": [
        "#### One dimensional array\n",
        "one_d = np.array([1, 2, 3, 4, 5])\n",
        "one_d"
      ],
      "metadata": {
        "colab": {
          "base_uri": "https://localhost:8080/"
        },
        "id": "MTa-swflelcV",
        "outputId": "dcb107d1-d09c-4328-b60a-ba1bb7d6ea20"
      },
      "execution_count": null,
      "outputs": [
        {
          "output_type": "execute_result",
          "data": {
            "text/plain": [
              "array([1, 2, 3, 4, 5])"
            ]
          },
          "metadata": {},
          "execution_count": 6
        }
      ]
    },
    {
      "cell_type": "code",
      "source": [
        "#### Two dimensional array\n",
        "two_d = np.array([[1, 2, 3, 4, 5],[6, 7, 8, 9, 10]])\n",
        "two_d"
      ],
      "metadata": {
        "colab": {
          "base_uri": "https://localhost:8080/"
        },
        "id": "t5f13p1AfSxx",
        "outputId": "d8085cc4-a5a5-415d-f787-b195e1cdfb66"
      },
      "execution_count": null,
      "outputs": [
        {
          "output_type": "execute_result",
          "data": {
            "text/plain": [
              "array([[ 1,  2,  3,  4,  5],\n",
              "       [ 6,  7,  8,  9, 10]])"
            ]
          },
          "metadata": {},
          "execution_count": 7
        }
      ]
    },
    {
      "cell_type": "code",
      "source": [
        "#### Three dimensional array\n",
        "three_d = np.array([[1, 2, 3, 4, 5], [6, 7, 8, 9, 10], [11, 12, 13, 14, 15]])\n",
        "three_d"
      ],
      "metadata": {
        "colab": {
          "base_uri": "https://localhost:8080/"
        },
        "id": "sPI9o8abfe96",
        "outputId": "4caaf64e-4ee1-48fc-d260-7b956ea3ecd1"
      },
      "execution_count": null,
      "outputs": [
        {
          "output_type": "execute_result",
          "data": {
            "text/plain": [
              "array([[ 1,  2,  3,  4,  5],\n",
              "       [ 6,  7,  8,  9, 10],\n",
              "       [11, 12, 13, 14, 15]])"
            ]
          },
          "metadata": {},
          "execution_count": 8
        }
      ]
    },
    {
      "cell_type": "code",
      "source": [
        "#### High dimension arrays\n",
        "## ndmin\n",
        "\n",
        "arr3 = np.array([1, 2, 3, 4, 5])\n",
        "print(arr3.ndim)\n"
      ],
      "metadata": {
        "colab": {
          "base_uri": "https://localhost:8080/"
        },
        "id": "IC2THj6Wf8Ir",
        "outputId": "9e8cc73d-826f-4ff9-8d58-4ab7f878945f"
      },
      "execution_count": null,
      "outputs": [
        {
          "output_type": "stream",
          "name": "stdout",
          "text": [
            "1\n"
          ]
        }
      ]
    },
    {
      "cell_type": "code",
      "source": [
        "#### Operations on array elements\n",
        "print(f\"Addition of first and second elements of an array: {arr3[0]+arr3[1]}\")\n",
        "print(f\"Squaring the elements of an array: {arr3 ** 2}\")"
      ],
      "metadata": {
        "colab": {
          "base_uri": "https://localhost:8080/"
        },
        "id": "OKzc5_aggHGP",
        "outputId": "d818919d-6e1d-4d53-dca3-670162e79927"
      },
      "execution_count": null,
      "outputs": [
        {
          "output_type": "stream",
          "name": "stdout",
          "text": [
            "Addition of first and second elements of an array: 3\n",
            "Squaring the elements of an array: [ 1  4  9 16 25]\n"
          ]
        }
      ]
    },
    {
      "cell_type": "markdown",
      "source": [
        "### Accessing the rows and columns in 2D-array\n"
      ],
      "metadata": {
        "id": "0QKSAoaCpBpz"
      }
    },
    {
      "cell_type": "code",
      "source": [
        "#### Accessing the rows and columns in 2D-array\n",
        "\n",
        "arr4 = np.array([[1, 2, 3, 4, 5],[6, 7, 8, 9, 10]])\n",
        "print(arr4)\n",
        "print(f\"The element at 2nd row and 3rd column is: {arr4[1, 2]}\")\n",
        "print(f\"The element at the last row and last column of array is: {arr4[-1, -1]}\")"
      ],
      "metadata": {
        "colab": {
          "base_uri": "https://localhost:8080/"
        },
        "id": "EMhIKFyghEld",
        "outputId": "2e98e56f-fa49-4fd7-fcb8-fd943d433450"
      },
      "execution_count": null,
      "outputs": [
        {
          "output_type": "stream",
          "name": "stdout",
          "text": [
            "[[ 1  2  3  4  5]\n",
            " [ 6  7  8  9 10]]\n",
            "The element at 2nd row and 3rd column is: 8\n",
            "The element at the last row and last column of array is: 10\n"
          ]
        }
      ]
    },
    {
      "cell_type": "markdown",
      "source": [
        "## Slicing in NumPy Arrays"
      ],
      "metadata": {
        "id": "Ls-o9SZdo7BY"
      }
    },
    {
      "cell_type": "code",
      "source": [
        "#### Accessing the odd elements in an array\n",
        "print(arr4[0][0:5:2])"
      ],
      "metadata": {
        "colab": {
          "base_uri": "https://localhost:8080/"
        },
        "id": "wppp2JyQn2se",
        "outputId": "de7caa32-d2a3-4ebc-83a6-1bc87057c2ca"
      },
      "execution_count": null,
      "outputs": [
        {
          "output_type": "stream",
          "name": "stdout",
          "text": [
            "[1 3 5]\n"
          ]
        }
      ]
    },
    {
      "cell_type": "markdown",
      "source": [
        "## 2-D Array Slicing (1)\n"
      ],
      "metadata": {
        "id": "ctDfWytUp363"
      }
    },
    {
      "cell_type": "code",
      "source": [
        "arr5 = np.array([[10, 11, 12, 13, 14], [15,16,17,18,19]])\n",
        "print(arr5[0:2, 2:4])\n",
        "\n",
        "# “arr[0:2, 2:4]” returns the elements from row0 to row (2-1), and from col2 to col (4-1)"
      ],
      "metadata": {
        "colab": {
          "base_uri": "https://localhost:8080/"
        },
        "id": "8s5mlyCkpQY8",
        "outputId": "5a4a8c39-4378-4969-c988-8a0c458c9aca"
      },
      "execution_count": null,
      "outputs": [
        {
          "output_type": "stream",
          "name": "stdout",
          "text": [
            "[[12 13]\n",
            " [17 18]]\n"
          ]
        }
      ]
    },
    {
      "cell_type": "markdown",
      "source": [
        "## 2-D Array Slicing (2)"
      ],
      "metadata": {
        "id": "hEiuOoc6snTd"
      }
    },
    {
      "cell_type": "code",
      "source": [
        "arr6 = np.array([[10, 11, 12, 13, 14], [15,16,17,18,19]])\n",
        "\n",
        "print(arr6[0, 2:5])\n",
        "print(arr6[1, 2:5])"
      ],
      "metadata": {
        "colab": {
          "base_uri": "https://localhost:8080/"
        },
        "id": "8rW-J-coqBff",
        "outputId": "be44e2e5-d8e5-4922-cf1f-f681ba738041"
      },
      "execution_count": null,
      "outputs": [
        {
          "output_type": "stream",
          "name": "stdout",
          "text": [
            "[12 13 14]\n",
            "[17 18 19]\n"
          ]
        }
      ]
    },
    {
      "cell_type": "markdown",
      "source": [
        "## 2-D Array Slicing (3)\n",
        "The 3rd syntax to slice a 2-d array is:\n",
        "\n",
        "*   myArray[ row1: row2, col ]\n",
        "\n"
      ],
      "metadata": {
        "id": "vEzOvm7steaP"
      }
    },
    {
      "cell_type": "code",
      "source": [
        "arr6 = np.array([[10, 11, 12, 13, 14], [15,16,17,18,19]])\n",
        "\n",
        "print(arr6[0:2, 2])\n",
        "print(arr6[0:1, 1])\n"
      ],
      "metadata": {
        "colab": {
          "base_uri": "https://localhost:8080/"
        },
        "id": "KWqcPDx-tByw",
        "outputId": "0cabf726-7df1-4ec6-8e32-9b3ae9b8b2a0"
      },
      "execution_count": null,
      "outputs": [
        {
          "output_type": "stream",
          "name": "stdout",
          "text": [
            "[12 17]\n",
            "[11]\n"
          ]
        }
      ]
    },
    {
      "cell_type": "markdown",
      "source": [
        "## **_NumPy Data Type_**"
      ],
      "metadata": {
        "id": "NT2LyXXluk_k"
      }
    },
    {
      "cell_type": "code",
      "source": [
        "arr7 = np.array([1, 2, 3, 4, 5], dtype='S')\n",
        "arr7"
      ],
      "metadata": {
        "colab": {
          "base_uri": "https://localhost:8080/"
        },
        "id": "Ix3TO9Ust4cS",
        "outputId": "c8250306-c2de-4356-9e6e-93724e581443"
      },
      "execution_count": null,
      "outputs": [
        {
          "output_type": "execute_result",
          "data": {
            "text/plain": [
              "array([b'1', b'2', b'3', b'4', b'5'], dtype='|S1')"
            ]
          },
          "metadata": {},
          "execution_count": 16
        }
      ]
    },
    {
      "cell_type": "code",
      "source": [
        "## Copy the array\n",
        "arr7 = np.array([1, 2, 3, 4, 5])\n",
        "\n",
        "arr8 = arr7.copy()\n",
        "print(arr7)\n",
        "print(arr8)"
      ],
      "metadata": {
        "colab": {
          "base_uri": "https://localhost:8080/"
        },
        "id": "j5WDEut-u4Rd",
        "outputId": "1eaeafd9-ebdb-4c62-d4a6-faab38643021"
      },
      "execution_count": null,
      "outputs": [
        {
          "output_type": "stream",
          "name": "stdout",
          "text": [
            "[1 2 3 4 5]\n",
            "[1 2 3 4 5]\n"
          ]
        }
      ]
    },
    {
      "cell_type": "code",
      "source": [
        "## View the array\n",
        "arr9 = np.array([21, 22, 23, 24, 25])\n",
        "arr10 = arr9.view()\n",
        "\n",
        "print(f\"Array 9 : {arr9}\")\n",
        "print(f\"Array 10: {arr10}\")\n",
        "print()\n",
        "arr9[3] = 244\n",
        "print()\n",
        "print(f\"Array 9 : {arr9}\")\n",
        "print(f\"Array 10: {arr10}\")\n",
        "print()\n",
        "print(arr10.base) ### this shos that viewd array is corelated to orignal array\n",
        "\n",
        "## Changing in the orignal array affects the view array but it does not affect the copied array"
      ],
      "metadata": {
        "colab": {
          "base_uri": "https://localhost:8080/"
        },
        "id": "vCEREwXtvqEp",
        "outputId": "98d7f0fb-9a53-4e73-f144-0c5b0ec28a14"
      },
      "execution_count": null,
      "outputs": [
        {
          "output_type": "stream",
          "name": "stdout",
          "text": [
            "Array 9 : [21 22 23 24 25]\n",
            "Array 10: [21 22 23 24 25]\n",
            "\n",
            "\n",
            "Array 9 : [ 21  22  23 244  25]\n",
            "Array 10: [ 21  22  23 244  25]\n",
            "\n",
            "[ 21  22  23 244  25]\n"
          ]
        }
      ]
    },
    {
      "cell_type": "markdown",
      "source": [
        "## **_Reshape 1D array to 2D array_**"
      ],
      "metadata": {
        "id": "dLCdxopaxoz5"
      }
    },
    {
      "cell_type": "code",
      "source": [
        "oned_array = np.array([1, 2, 3, 4, 5, 6, 7, 8, 9, 10, 11, 12, 13, 14, 15])\n",
        "print(oned_array)\n",
        "\n",
        "new_array = oned_array.reshape(3, 5)\n",
        "print(new_array)"
      ],
      "metadata": {
        "colab": {
          "base_uri": "https://localhost:8080/"
        },
        "id": "GxZ5J7L8we9x",
        "outputId": "791706e0-f834-403a-c2b4-ee2837465a73"
      },
      "execution_count": null,
      "outputs": [
        {
          "output_type": "stream",
          "name": "stdout",
          "text": [
            "[ 1  2  3  4  5  6  7  8  9 10 11 12 13 14 15]\n",
            "[[ 1  2  3  4  5]\n",
            " [ 6  7  8  9 10]\n",
            " [11 12 13 14 15]]\n"
          ]
        }
      ]
    },
    {
      "cell_type": "markdown",
      "source": [
        "## **_Reshape 2D array to 3D array_**"
      ],
      "metadata": {
        "id": "kvvczjNYysNZ"
      }
    },
    {
      "cell_type": "code",
      "source": [
        "oned_array = np.array([1, 2, 3, 4, 5, 6, 7, 8, 9, 10, 11, 12, 13, 14, 15, 16])\n",
        "new_3d_array = oned_array.reshape(2, 4, 2)\n",
        "new_3d_array"
      ],
      "metadata": {
        "colab": {
          "base_uri": "https://localhost:8080/"
        },
        "id": "Ms2cfvHGyI4W",
        "outputId": "5d73e7c1-a813-4e2b-a061-61a7f7bfc75a"
      },
      "execution_count": null,
      "outputs": [
        {
          "output_type": "execute_result",
          "data": {
            "text/plain": [
              "array([[[ 1,  2],\n",
              "        [ 3,  4],\n",
              "        [ 5,  6],\n",
              "        [ 7,  8]],\n",
              "\n",
              "       [[ 9, 10],\n",
              "        [11, 12],\n",
              "        [13, 14],\n",
              "        [15, 16]]])"
            ]
          },
          "metadata": {},
          "execution_count": 20
        }
      ]
    },
    {
      "cell_type": "markdown",
      "source": [
        "## **_Iterating 1-d Array_**"
      ],
      "metadata": {
        "id": "KuU_nrA633hA"
      }
    },
    {
      "cell_type": "code",
      "source": [
        "array11 = np.array([10, 11, 12, 13, 14, 15])\n",
        "new_arr = []\n",
        "for i in array11:\n",
        "  new_arr.append(i)\n",
        "  print(i)\n",
        "print()\n",
        "print(new_arr)"
      ],
      "metadata": {
        "colab": {
          "base_uri": "https://localhost:8080/"
        },
        "id": "T51P-ScSzDqU",
        "outputId": "2c0ce29a-ae75-4660-cdf3-d436ce387e35"
      },
      "execution_count": null,
      "outputs": [
        {
          "output_type": "stream",
          "name": "stdout",
          "text": [
            "10\n",
            "11\n",
            "12\n",
            "13\n",
            "14\n",
            "15\n",
            "\n",
            "[10, 11, 12, 13, 14, 15]\n"
          ]
        }
      ]
    },
    {
      "cell_type": "markdown",
      "source": [
        "## **_Iterating 2-d Array_**\n",
        "The syntax to iterate through all elements in a 2-d array is:\n",
        "* [ for num in myArray ]"
      ],
      "metadata": {
        "id": "XjuNWage4kH5"
      }
    },
    {
      "cell_type": "code",
      "source": [
        "td_arr = np.array([[1, 2, 3, 4, 5],[6, 7, 8, 9, 10]])\n",
        "emp = []\n",
        "for nums in td_arr:\n",
        "  emp.append(nums)\n",
        "  # print(nums)\n",
        "\n",
        "print(emp)"
      ],
      "metadata": {
        "colab": {
          "base_uri": "https://localhost:8080/"
        },
        "id": "nMV8GwlO4JcX",
        "outputId": "9f7d593d-74dc-4abf-8c02-8d54eaf5e049"
      },
      "execution_count": null,
      "outputs": [
        {
          "output_type": "stream",
          "name": "stdout",
          "text": [
            "[array([1, 2, 3, 4, 5]), array([ 6,  7,  8,  9, 10])]\n"
          ]
        }
      ]
    },
    {
      "cell_type": "markdown",
      "source": [
        "## **_Iterating 3D Array_**"
      ],
      "metadata": {
        "id": "5oSIqDtk6pHi"
      }
    },
    {
      "cell_type": "code",
      "source": [
        "myArr=np.array([[[10,11,12],[13,14,15]],[[16,17,18],[19,20,21]]])\n",
        "\n",
        "for nums in myArr:\n",
        "  print(nums)"
      ],
      "metadata": {
        "colab": {
          "base_uri": "https://localhost:8080/"
        },
        "id": "LSxTYLG-5HRl",
        "outputId": "e8b052ff-e15b-4a4c-a79c-896dc146ac0b"
      },
      "execution_count": null,
      "outputs": [
        {
          "output_type": "stream",
          "name": "stdout",
          "text": [
            "[[10 11 12]\n",
            " [13 14 15]]\n",
            "[[16 17 18]\n",
            " [19 20 21]]\n"
          ]
        }
      ]
    },
    {
      "cell_type": "markdown",
      "source": [
        "## **_Axis, a Big Issue_**\n",
        "When concatenating two arrays, we will use a parameter “axis”.\n",
        "* axis = 0   # joins two arrays vertically\n",
        "* axis = 1   # joins two arrays horizontally"
      ],
      "metadata": {
        "id": "zbVzvyBe7n4M"
      }
    },
    {
      "cell_type": "code",
      "source": [
        "arr12 = np.array([[1, 2],[3, 4]])\n",
        "arr13 = np.array([[5, 6],[7, 8]])\n",
        "\n",
        "print(arr12, arr13)"
      ],
      "metadata": {
        "colab": {
          "base_uri": "https://localhost:8080/"
        },
        "id": "9RboSo7V651k",
        "outputId": "085c5c10-9c4a-4728-e1fb-8a8ed9b9fc26"
      },
      "execution_count": null,
      "outputs": [
        {
          "output_type": "stream",
          "name": "stdout",
          "text": [
            "[[1 2]\n",
            " [3 4]] [[5 6]\n",
            " [7 8]]\n"
          ]
        }
      ]
    },
    {
      "cell_type": "markdown",
      "source": [
        "## **_Sort String Array_**"
      ],
      "metadata": {
        "id": "YAneYcKg-JYH"
      }
    },
    {
      "cell_type": "code",
      "source": [
        "my_arr = np.array([5, 6 ,1, 3, 2, 9])\n",
        "\n",
        "np.sort(my_arr)"
      ],
      "metadata": {
        "colab": {
          "base_uri": "https://localhost:8080/"
        },
        "id": "zf4Js0Fi8X0J",
        "outputId": "c4d25b19-bc88-4863-a045-e33a00599e54"
      },
      "execution_count": null,
      "outputs": [
        {
          "output_type": "execute_result",
          "data": {
            "text/plain": [
              "array([1, 2, 3, 5, 6, 9])"
            ]
          },
          "metadata": {},
          "execution_count": 25
        }
      ]
    },
    {
      "cell_type": "code",
      "source": [
        "myArr = np.array([ 10, 55, 21, 62, 29, 75, 36, 98])\n",
        "even = np.where(myArr % 2 == 0)\n",
        "print(myArr[even])\n",
        "print(even)"
      ],
      "metadata": {
        "colab": {
          "base_uri": "https://localhost:8080/"
        },
        "id": "cujUFVuZ-fJn",
        "outputId": "86319901-f847-4794-b892-5b38ff628e6c"
      },
      "execution_count": null,
      "outputs": [
        {
          "output_type": "stream",
          "name": "stdout",
          "text": [
            "[10 62 36 98]\n",
            "(array([0, 3, 6, 7]),)\n"
          ]
        }
      ]
    },
    {
      "cell_type": "markdown",
      "source": [
        "## **_Arthematic operations on Arrays_**"
      ],
      "metadata": {
        "id": "TBV1UWVzIHJn"
      }
    },
    {
      "cell_type": "code",
      "source": [
        "a = np.array([[1,2,30],[10,15,4]])  \n",
        "b = np.array([[1,2,3],[12, 19, 29]]) \n",
        "\n",
        "print(f\"Addition of a and b:\\n {a + b}\")\n",
        "print(f\"Subtraction of a and b:\\n {a - b}\")\n",
        "print(f\"Multiplication of a and b:\\n {a * b}\")\n",
        "print(f\"Division of a and b:\\n {a / b}\")\n"
      ],
      "metadata": {
        "colab": {
          "base_uri": "https://localhost:8080/"
        },
        "id": "m212oZ75-9Yu",
        "outputId": "df828bf7-450d-46a8-9cd0-4d5e5d6f9b81"
      },
      "execution_count": null,
      "outputs": [
        {
          "output_type": "stream",
          "name": "stdout",
          "text": [
            "Addition of a and b:\n",
            " [[ 2  4 33]\n",
            " [22 34 33]]\n",
            "Subtraction of a and b:\n",
            " [[  0   0  27]\n",
            " [ -2  -4 -25]]\n",
            "Multiplication of a and b:\n",
            " [[  1   4  90]\n",
            " [120 285 116]]\n",
            "Division of a and b:\n",
            " [[ 1.          1.         10.        ]\n",
            " [ 0.83333333  0.78947368  0.13793103]]\n"
          ]
        }
      ]
    },
    {
      "cell_type": "code",
      "source": [
        "#### Numpy zeros\n",
        "\n",
        "zero_arr = np.zeros((4, 4, 4),dtype=int)\n",
        "zero_arr"
      ],
      "metadata": {
        "colab": {
          "base_uri": "https://localhost:8080/"
        },
        "id": "dpUuDXvyIQZ8",
        "outputId": "40d72d14-f6e8-433e-86bf-333b27cfcad1"
      },
      "execution_count": null,
      "outputs": [
        {
          "output_type": "execute_result",
          "data": {
            "text/plain": [
              "array([[[0, 0, 0, 0],\n",
              "        [0, 0, 0, 0],\n",
              "        [0, 0, 0, 0],\n",
              "        [0, 0, 0, 0]],\n",
              "\n",
              "       [[0, 0, 0, 0],\n",
              "        [0, 0, 0, 0],\n",
              "        [0, 0, 0, 0],\n",
              "        [0, 0, 0, 0]],\n",
              "\n",
              "       [[0, 0, 0, 0],\n",
              "        [0, 0, 0, 0],\n",
              "        [0, 0, 0, 0],\n",
              "        [0, 0, 0, 0]],\n",
              "\n",
              "       [[0, 0, 0, 0],\n",
              "        [0, 0, 0, 0],\n",
              "        [0, 0, 0, 0],\n",
              "        [0, 0, 0, 0]]])"
            ]
          },
          "metadata": {},
          "execution_count": 28
        }
      ]
    },
    {
      "cell_type": "code",
      "source": [
        "### Ones array\n",
        "\n",
        "ones_arr = np.ones((2,3,3), dtype=np.int64)\n",
        "ones_arr"
      ],
      "metadata": {
        "colab": {
          "base_uri": "https://localhost:8080/"
        },
        "id": "qNeVTnhIJley",
        "outputId": "0ec31a43-3cc6-4960-beed-d0ddca8ae28b"
      },
      "execution_count": null,
      "outputs": [
        {
          "output_type": "execute_result",
          "data": {
            "text/plain": [
              "array([[[1, 1, 1],\n",
              "        [1, 1, 1],\n",
              "        [1, 1, 1]],\n",
              "\n",
              "       [[1, 1, 1],\n",
              "        [1, 1, 1],\n",
              "        [1, 1, 1]]])"
            ]
          },
          "metadata": {},
          "execution_count": 29
        }
      ]
    },
    {
      "cell_type": "code",
      "source": [
        "### Numpy array from existing data\n",
        "\n",
        "l = [1, 2, 3, 4, 5]\n",
        "\n",
        "arr = np.asarray(l)\n",
        "\n",
        "arr\n",
        "print(type(l))\n",
        "print(type(arr))"
      ],
      "metadata": {
        "colab": {
          "base_uri": "https://localhost:8080/"
        },
        "id": "pRHnBt8wJ_au",
        "outputId": "b07e3ef8-5f00-45f2-e5dd-8d9848260298"
      },
      "execution_count": null,
      "outputs": [
        {
          "output_type": "stream",
          "name": "stdout",
          "text": [
            "<class 'list'>\n",
            "<class 'numpy.ndarray'>\n"
          ]
        }
      ]
    },
    {
      "cell_type": "code",
      "source": [
        "#### np.arange()\n",
        "\n",
        "my_arr1 = np.arange(10, 20, 2)\n",
        "\n",
        "my_arr1"
      ],
      "metadata": {
        "colab": {
          "base_uri": "https://localhost:8080/"
        },
        "id": "CXhzhDclLvqO",
        "outputId": "16b1c029-785f-4451-90d4-7b85af8385e7"
      },
      "execution_count": null,
      "outputs": [
        {
          "output_type": "execute_result",
          "data": {
            "text/plain": [
              "array([10, 12, 14, 16, 18])"
            ]
          },
          "metadata": {},
          "execution_count": 31
        }
      ]
    },
    {
      "cell_type": "code",
      "source": [
        "#### Linspace\n",
        "\n",
        "my_arr1 = np.linspace(10, 20, 10)\n",
        "\n",
        "my_arr1"
      ],
      "metadata": {
        "colab": {
          "base_uri": "https://localhost:8080/"
        },
        "id": "h6dQbyS2NOEw",
        "outputId": "3bce88b4-c3e0-41c9-f2d8-59af2d8dbe90"
      },
      "execution_count": null,
      "outputs": [
        {
          "output_type": "execute_result",
          "data": {
            "text/plain": [
              "array([10.        , 11.11111111, 12.22222222, 13.33333333, 14.44444444,\n",
              "       15.55555556, 16.66666667, 17.77777778, 18.88888889, 20.        ])"
            ]
          },
          "metadata": {},
          "execution_count": 32
        }
      ]
    },
    {
      "cell_type": "code",
      "source": [
        "### Broadcasting\n",
        "\n",
        "# Smaller array is operating the operation on larger array completely\n",
        "\n",
        "a = np.array([[1,2,3,4],[2,4,5,6],[10,20,39,3]])  \n",
        "b = np.array([2,4,6,8])  \n",
        "print(\"\\nprinting array a..\")  \n",
        "print(a)  \n",
        "print(\"\\nprinting array b..\")  \n",
        "print(b)  \n",
        "print(\"\\nAdding arrays a and b ..\")  \n",
        "c = a + b;  \n",
        "print(c)"
      ],
      "metadata": {
        "colab": {
          "base_uri": "https://localhost:8080/"
        },
        "id": "obvzwQFYNb0O",
        "outputId": "899935ec-be34-46b5-b8dd-b21fde42c390"
      },
      "execution_count": null,
      "outputs": [
        {
          "output_type": "stream",
          "name": "stdout",
          "text": [
            "\n",
            "printing array a..\n",
            "[[ 1  2  3  4]\n",
            " [ 2  4  5  6]\n",
            " [10 20 39  3]]\n",
            "\n",
            "printing array b..\n",
            "[2 4 6 8]\n",
            "\n",
            "Adding arrays a and b ..\n",
            "[[ 3  6  9 12]\n",
            " [ 4  8 11 14]\n",
            " [12 24 45 11]]\n"
          ]
        }
      ]
    },
    {
      "cell_type": "code",
      "source": [
        "a = np.array([[1,2,3,4],[2,4,5,6],[10,20,39,3]])  \n",
        "  \n",
        "print(\"\\nPrinting the array:\\n\")  \n",
        "  \n",
        "print(a)  \n",
        "  \n",
        "print(\"\\nPrinting the transpose of the array:\\n\")  \n",
        "at = a.T  \n",
        "  \n",
        "print(at)  \n",
        "  \n",
        "print(\"\\nIterating over the transposed array\\n\")  \n",
        "  \n",
        "for x in np.nditer(at):  \n",
        "    print(x, end= ' ')  \n",
        "  \n",
        "print(\"\\nSorting the transposed array in C-style:\\n\")  \n",
        "  \n",
        "c = at.copy(order = 'C')  \n",
        "  \n",
        "print(c)  \n",
        "  \n",
        "print(\"\\nIterating over the C-style array:\\n\")  \n",
        "for x in np.nditer(c):  \n",
        "    print(x,end=' ')  \n",
        "      \n",
        "  \n",
        "d = at.copy(order = 'F')  \n",
        "  \n",
        "print(d)  \n",
        "print(\"Iterating over the F-style array:\\n\")  \n",
        "for x in np.nditer(d):  \n",
        "    print(x,end=' ')"
      ],
      "metadata": {
        "colab": {
          "base_uri": "https://localhost:8080/"
        },
        "id": "tFq6Ybn6TX0L",
        "outputId": "51133fa1-064a-4d08-ae43-ac682796a410"
      },
      "execution_count": null,
      "outputs": [
        {
          "output_type": "stream",
          "name": "stdout",
          "text": [
            "\n",
            "Printing the array:\n",
            "\n",
            "[[ 1  2  3  4]\n",
            " [ 2  4  5  6]\n",
            " [10 20 39  3]]\n",
            "\n",
            "Printing the transpose of the array:\n",
            "\n",
            "[[ 1  2 10]\n",
            " [ 2  4 20]\n",
            " [ 3  5 39]\n",
            " [ 4  6  3]]\n",
            "\n",
            "Iterating over the transposed array\n",
            "\n",
            "1 2 3 4 2 4 5 6 10 20 39 3 \n",
            "Sorting the transposed array in C-style:\n",
            "\n",
            "[[ 1  2 10]\n",
            " [ 2  4 20]\n",
            " [ 3  5 39]\n",
            " [ 4  6  3]]\n",
            "\n",
            "Iterating over the C-style array:\n",
            "\n",
            "1 2 10 2 4 20 3 5 39 4 6 3 [[ 1  2 10]\n",
            " [ 2  4 20]\n",
            " [ 3  5 39]\n",
            " [ 4  6  3]]\n",
            "Iterating over the F-style array:\n",
            "\n",
            "1 2 3 4 2 4 5 6 10 20 39 3 "
          ]
        }
      ]
    },
    {
      "cell_type": "code",
      "source": [
        "a = np.array([[1, 2, 3, 4, 5],[6, 7, 8, 9, 10]])\n",
        "\n",
        "b = at.copy(order = 'C')\n",
        "b"
      ],
      "metadata": {
        "colab": {
          "base_uri": "https://localhost:8080/"
        },
        "id": "7BwvXHs8VX_C",
        "outputId": "5256308a-582c-425b-b4a7-213fe7d61404"
      },
      "execution_count": null,
      "outputs": [
        {
          "output_type": "execute_result",
          "data": {
            "text/plain": [
              "array([[ 1,  2, 10],\n",
              "       [ 2,  4, 20],\n",
              "       [ 3,  5, 39],\n",
              "       [ 4,  6,  3]])"
            ]
          },
          "metadata": {},
          "execution_count": 35
        }
      ]
    },
    {
      "cell_type": "code",
      "source": [
        "orignal_array = np.array([[1, 2, 3, 4, 5],[6, 7, 8, 9, 10]])\n",
        "\n",
        "print(orignal_array)\n",
        "print()\n",
        "for nums in orignal_array:\n",
        "  nums *= 3\n",
        "  print(nums)"
      ],
      "metadata": {
        "colab": {
          "base_uri": "https://localhost:8080/"
        },
        "id": "dOJeLxa5W-g7",
        "outputId": "efd9059b-48b3-4089-a242-e580fdf4c023"
      },
      "execution_count": null,
      "outputs": [
        {
          "output_type": "stream",
          "name": "stdout",
          "text": [
            "[[ 1  2  3  4  5]\n",
            " [ 6  7  8  9 10]]\n",
            "\n",
            "[ 3  6  9 12 15]\n",
            "[18 21 24 27 30]\n"
          ]
        }
      ]
    },
    {
      "cell_type": "markdown",
      "source": [
        "## **_NumPy Mathematical Functions_**"
      ],
      "metadata": {
        "id": "CFVLntqn4cXi"
      }
    },
    {
      "cell_type": "code",
      "source": [
        "import numpy as np  \n",
        "arr = np.array([0, 30, 60, 90, 120, 150, 180])  \n",
        "print(\"\\nThe sin value of the angles\",end = \" \")  \n",
        "print(np.sin(arr * np.pi/180))  \n",
        "print(\"\\nThe cosine value of the angles\",end = \" \")  \n",
        "print(np.cos(arr * np.pi/180))  \n",
        "print(\"\\nThe tangent value of the angles\",end = \" \")  \n",
        "print(np.tan(arr * np.pi/180))"
      ],
      "metadata": {
        "id": "uNEncf-NYEar",
        "colab": {
          "base_uri": "https://localhost:8080/"
        },
        "outputId": "feca5c97-660d-465b-8284-659fed5cf222"
      },
      "execution_count": null,
      "outputs": [
        {
          "output_type": "stream",
          "name": "stdout",
          "text": [
            "\n",
            "The sin value of the angles [0.00000000e+00 5.00000000e-01 8.66025404e-01 1.00000000e+00\n",
            " 8.66025404e-01 5.00000000e-01 1.22464680e-16]\n",
            "\n",
            "The cosine value of the angles [ 1.00000000e+00  8.66025404e-01  5.00000000e-01  6.12323400e-17\n",
            " -5.00000000e-01 -8.66025404e-01 -1.00000000e+00]\n",
            "\n",
            "The tangent value of the angles [ 0.00000000e+00  5.77350269e-01  1.73205081e+00  1.63312394e+16\n",
            " -1.73205081e+00 -5.77350269e-01 -1.22464680e-16]\n"
          ]
        }
      ]
    },
    {
      "cell_type": "code",
      "source": [
        "## Maximum value in a array\n",
        "\n",
        "arra1 = np.array([[1, 2, 3, 4, 5],[6, 7, 8, 9, 10],[1,1,0,1,1]])\n",
        "\n",
        "maximum = np.max(arra1)\n",
        "minimum = np.min(arra1)\n",
        "\n",
        "print(maximum)\n",
        "print(minimum)"
      ],
      "metadata": {
        "colab": {
          "base_uri": "https://localhost:8080/"
        },
        "id": "PgZOywju4oDf",
        "outputId": "f0736cee-3ab6-4988-be09-d2cd162de53f"
      },
      "execution_count": null,
      "outputs": [
        {
          "output_type": "stream",
          "name": "stdout",
          "text": [
            "10\n",
            "0\n"
          ]
        }
      ]
    },
    {
      "cell_type": "markdown",
      "source": [
        "## **_Calculating median, mean, and average of array items_**"
      ],
      "metadata": {
        "id": "go8fGF__56J4"
      }
    },
    {
      "cell_type": "code",
      "source": [
        "arra2 = np.array([[1, 2, 3],[4, 5, 6]])\n",
        "print(arra2.mean())\n",
        "print(np.median(arra2, 0))"
      ],
      "metadata": {
        "colab": {
          "base_uri": "https://localhost:8080/"
        },
        "id": "RIlnZ5ef5URW",
        "outputId": "fbd3285c-0340-49b2-90ad-64940ca039c8"
      },
      "execution_count": null,
      "outputs": [
        {
          "output_type": "stream",
          "name": "stdout",
          "text": [
            "3.5\n",
            "[2.5 3.5 4.5]\n"
          ]
        }
      ]
    },
    {
      "cell_type": "code",
      "source": [
        "### Sorting a numpy array along columns\n",
        "a = np.array([[10,2,3],[4,5,6],[7,8,9]])\n",
        "\n",
        "print(np.sort(a))\n"
      ],
      "metadata": {
        "colab": {
          "base_uri": "https://localhost:8080/"
        },
        "id": "qY_2w4fe6M_T",
        "outputId": "ccf3474f-7ad4-4207-d22a-773a572b3423"
      },
      "execution_count": null,
      "outputs": [
        {
          "output_type": "stream",
          "name": "stdout",
          "text": [
            "[[ 2  3 10]\n",
            " [ 4  5  6]\n",
            " [ 7  8  9]]\n"
          ]
        }
      ]
    },
    {
      "cell_type": "code",
      "source": [
        "### Sorting a numpy array along rows\n",
        "a = np.array([[10,2,3],[4,5,6],[7,8,9]])\n",
        "print(np.sort(a, 0))"
      ],
      "metadata": {
        "colab": {
          "base_uri": "https://localhost:8080/"
        },
        "id": "X5sYmXuh8Ffh",
        "outputId": "6069f3af-3efa-4296-840e-555bce9a47db"
      },
      "execution_count": null,
      "outputs": [
        {
          "output_type": "stream",
          "name": "stdout",
          "text": [
            "[[ 4  2  3]\n",
            " [ 7  5  6]\n",
            " [10  8  9]]\n"
          ]
        }
      ]
    },
    {
      "cell_type": "code",
      "source": [
        "## Sorting a numpy array by name\n",
        "\n",
        "a = np.array(['Ayaz', 'Zahoor', 'Aaqib', 'Muqeet'])\n",
        "\n",
        "print(np.sort(a))"
      ],
      "metadata": {
        "colab": {
          "base_uri": "https://localhost:8080/"
        },
        "id": "APlk1xJE8qbF",
        "outputId": "263038cf-3335-4de1-9947-55d8f261f482"
      },
      "execution_count": null,
      "outputs": [
        {
          "output_type": "stream",
          "name": "stdout",
          "text": [
            "['Aaqib' 'Ayaz' 'Muqeet' 'Zahoor']\n"
          ]
        }
      ]
    },
    {
      "cell_type": "markdown",
      "source": [
        "## **_NumPy Linear Algebra_**"
      ],
      "metadata": {
        "id": "MmOf-5lF-R-t"
      }
    },
    {
      "cell_type": "code",
      "source": [
        "a = np.array([[1, 2, 3], \n",
        "              [4, 5, 6],\n",
        "              [10, 11, 12]])\n",
        "b = np.array([[7, 8, 9],\n",
        "              [10, 11, 12],\n",
        "              [4, 5, 6]])\n",
        "\n",
        "dot_product = a.dot(b)\n",
        "v_dot = np.vdot(a, b)\n",
        "print(dot_product)\n",
        "print(v_dot)"
      ],
      "metadata": {
        "colab": {
          "base_uri": "https://localhost:8080/"
        },
        "id": "542SmzUB9H8q",
        "outputId": "66762b73-f1b6-49c0-ae41-f49106811143"
      },
      "execution_count": null,
      "outputs": [
        {
          "output_type": "stream",
          "name": "stdout",
          "text": [
            "[[ 39  45  51]\n",
            " [102 117 132]\n",
            " [228 261 294]]\n",
            "384\n"
          ]
        }
      ]
    },
    {
      "cell_type": "code",
      "source": [
        "### Inner function\n",
        "a = np.array([1,2,3,4,5,6])  \n",
        "b = np.array([23,23,12,2,1,2])  \n",
        "inner = np.inner(a,b)  \n",
        "print(inner)  "
      ],
      "metadata": {
        "colab": {
          "base_uri": "https://localhost:8080/"
        },
        "id": "pRO6UK15-wMl",
        "outputId": "2f126e8b-4612-4c60-cf4f-2ad3b11c3bac"
      },
      "execution_count": null,
      "outputs": [
        {
          "output_type": "stream",
          "name": "stdout",
          "text": [
            "130\n"
          ]
        }
      ]
    },
    {
      "cell_type": "code",
      "source": [
        "### Determinant of two numpy arrays\n",
        "\n",
        "a = np.array([[1, 2], [3, 4]])\n",
        "b = np.array([[5, 6], [8, 9]])\n",
        "\n",
        "print(np.linalg.det(a))\n",
        "print(np.linalg.det(b))"
      ],
      "metadata": {
        "colab": {
          "base_uri": "https://localhost:8080/"
        },
        "id": "xi_kzcT-CBye",
        "outputId": "cfceb90b-6a86-41c5-adbd-f792120fc803"
      },
      "execution_count": null,
      "outputs": [
        {
          "output_type": "stream",
          "name": "stdout",
          "text": [
            "-2.0000000000000004\n",
            "-2.9999999999999996\n"
          ]
        }
      ]
    },
    {
      "cell_type": "code",
      "source": [
        "### Multiplicative inverse of a numpy array\n",
        "\n",
        "a = np.array([[1, 2],\n",
        "              [3, 4]])\n",
        "\n",
        "b = np.array([[5, 6],\n",
        "              [8, 9]])\n",
        "\n",
        "np.linalg.inv(a)"
      ],
      "metadata": {
        "colab": {
          "base_uri": "https://localhost:8080/"
        },
        "id": "YCl8LsMSDG0s",
        "outputId": "bf63c1c3-9cd2-4831-95a6-051700688ff0"
      },
      "execution_count": null,
      "outputs": [
        {
          "output_type": "execute_result",
          "data": {
            "text/plain": [
              "array([[-2. ,  1. ],\n",
              "       [ 1.5, -0.5]])"
            ]
          },
          "metadata": {},
          "execution_count": 72
        }
      ]
    },
    {
      "cell_type": "code",
      "source": [
        "### Multiplication of two matrices\n",
        "\n",
        "a = np.array([[0, 1, 2],\n",
        "              [3, 4, 5]])\n",
        "\n",
        "b = np.array([[1, 2, 3],\n",
        "              [4, 5, 6],\n",
        "              [7, 8, 9]])\n",
        "\n",
        "print(a.shape)\n",
        "print(b.shape)\n",
        "np.matmul(a, b)"
      ],
      "metadata": {
        "colab": {
          "base_uri": "https://localhost:8080/"
        },
        "id": "DRJgUuhkES2M",
        "outputId": "e0f17f82-1a30-4eee-a3d9-58afd06915c2"
      },
      "execution_count": null,
      "outputs": [
        {
          "output_type": "stream",
          "name": "stdout",
          "text": [
            "(2, 3)\n",
            "(3, 3)\n"
          ]
        },
        {
          "output_type": "execute_result",
          "data": {
            "text/plain": [
              "array([[18, 21, 24],\n",
              "       [54, 66, 78]])"
            ]
          },
          "metadata": {},
          "execution_count": 93
        }
      ]
    },
    {
      "cell_type": "code",
      "source": [],
      "metadata": {
        "id": "SjNc3TfuGyDu"
      },
      "execution_count": null,
      "outputs": []
    }
  ]
}